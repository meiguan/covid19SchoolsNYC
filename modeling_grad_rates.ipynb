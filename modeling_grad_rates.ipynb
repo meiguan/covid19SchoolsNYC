{
 "cells": [
  {
   "cell_type": "code",
   "execution_count": 10,
   "metadata": {},
   "outputs": [
    {
     "ename": "ImportError",
     "evalue": "cannot import name 'sort_values' from 'statsmodels.compat.pandas' (/Users/mguan/anaconda3/lib/python3.7/site-packages/statsmodels/compat/pandas.py)",
     "output_type": "error",
     "traceback": [
      "\u001b[0;31m---------------------------------------------------------------------------\u001b[0m",
      "\u001b[0;31mImportError\u001b[0m                               Traceback (most recent call last)",
      "\u001b[0;32m<ipython-input-10-a660d06f58fb>\u001b[0m in \u001b[0;36m<module>\u001b[0;34m\u001b[0m\n\u001b[1;32m      5\u001b[0m \u001b[0;32mimport\u001b[0m \u001b[0mmatplotlib\u001b[0m\u001b[0;34m.\u001b[0m\u001b[0mpyplot\u001b[0m \u001b[0;32mas\u001b[0m \u001b[0mplt\u001b[0m\u001b[0;34m\u001b[0m\u001b[0;34m\u001b[0m\u001b[0m\n\u001b[1;32m      6\u001b[0m \u001b[0;34m\u001b[0m\u001b[0m\n\u001b[0;32m----> 7\u001b[0;31m \u001b[0;32mimport\u001b[0m \u001b[0mstatsmodels\u001b[0m\u001b[0;34m.\u001b[0m\u001b[0mapi\u001b[0m \u001b[0;32mas\u001b[0m \u001b[0msm\u001b[0m\u001b[0;34m\u001b[0m\u001b[0;34m\u001b[0m\u001b[0m\n\u001b[0m\u001b[1;32m      8\u001b[0m \u001b[0;32mimport\u001b[0m \u001b[0mstatsmodels\u001b[0m\u001b[0;34m.\u001b[0m\u001b[0mformula\u001b[0m\u001b[0;34m.\u001b[0m\u001b[0mapi\u001b[0m \u001b[0;32mas\u001b[0m \u001b[0msmf\u001b[0m\u001b[0;34m\u001b[0m\u001b[0;34m\u001b[0m\u001b[0m\n\u001b[1;32m      9\u001b[0m \u001b[0;34m\u001b[0m\u001b[0m\n",
      "\u001b[0;32m~/anaconda3/lib/python3.7/site-packages/statsmodels/api.py\u001b[0m in \u001b[0;36m<module>\u001b[0;34m\u001b[0m\n\u001b[1;32m     21\u001b[0m                                    \u001b[0mZeroInflatedGeneralizedPoisson\u001b[0m\u001b[0;34m,\u001b[0m\u001b[0;34m\u001b[0m\u001b[0;34m\u001b[0m\u001b[0m\n\u001b[1;32m     22\u001b[0m                                    ZeroInflatedNegativeBinomialP)\n\u001b[0;32m---> 23\u001b[0;31m \u001b[0;32mfrom\u001b[0m \u001b[0;34m.\u001b[0m\u001b[0mtsa\u001b[0m \u001b[0;32mimport\u001b[0m \u001b[0mapi\u001b[0m \u001b[0;32mas\u001b[0m \u001b[0mtsa\u001b[0m\u001b[0;34m\u001b[0m\u001b[0;34m\u001b[0m\u001b[0m\n\u001b[0m\u001b[1;32m     24\u001b[0m \u001b[0;32mfrom\u001b[0m \u001b[0;34m.\u001b[0m\u001b[0mduration\u001b[0m\u001b[0;34m.\u001b[0m\u001b[0msurvfunc\u001b[0m \u001b[0;32mimport\u001b[0m \u001b[0mSurvfuncRight\u001b[0m\u001b[0;34m\u001b[0m\u001b[0;34m\u001b[0m\u001b[0m\n\u001b[1;32m     25\u001b[0m \u001b[0;32mfrom\u001b[0m \u001b[0;34m.\u001b[0m\u001b[0mduration\u001b[0m\u001b[0;34m.\u001b[0m\u001b[0mhazard_regression\u001b[0m \u001b[0;32mimport\u001b[0m \u001b[0mPHReg\u001b[0m\u001b[0;34m\u001b[0m\u001b[0;34m\u001b[0m\u001b[0m\n",
      "\u001b[0;32m~/anaconda3/lib/python3.7/site-packages/statsmodels/tsa/api.py\u001b[0m in \u001b[0;36m<module>\u001b[0;34m\u001b[0m\n\u001b[1;32m     15\u001b[0m \u001b[0;32mfrom\u001b[0m \u001b[0;34m.\u001b[0m\u001b[0mbase\u001b[0m \u001b[0;32mimport\u001b[0m \u001b[0mdatetools\u001b[0m\u001b[0;34m\u001b[0m\u001b[0;34m\u001b[0m\u001b[0m\n\u001b[1;32m     16\u001b[0m \u001b[0;32mfrom\u001b[0m \u001b[0;34m.\u001b[0m\u001b[0mseasonal\u001b[0m \u001b[0;32mimport\u001b[0m \u001b[0mseasonal_decompose\u001b[0m\u001b[0;34m\u001b[0m\u001b[0;34m\u001b[0m\u001b[0m\n\u001b[0;32m---> 17\u001b[0;31m \u001b[0;32mfrom\u001b[0m \u001b[0;34m.\u001b[0m\u001b[0;34m.\u001b[0m\u001b[0mgraphics\u001b[0m \u001b[0;32mimport\u001b[0m \u001b[0mtsaplots\u001b[0m \u001b[0;32mas\u001b[0m \u001b[0mgraphics\u001b[0m\u001b[0;34m\u001b[0m\u001b[0;34m\u001b[0m\u001b[0m\n\u001b[0m\u001b[1;32m     18\u001b[0m \u001b[0;32mfrom\u001b[0m \u001b[0;34m.\u001b[0m\u001b[0mx13\u001b[0m \u001b[0;32mimport\u001b[0m \u001b[0mx13_arima_select_order\u001b[0m\u001b[0;34m\u001b[0m\u001b[0;34m\u001b[0m\u001b[0m\n\u001b[1;32m     19\u001b[0m \u001b[0;32mfrom\u001b[0m \u001b[0;34m.\u001b[0m\u001b[0mx13\u001b[0m \u001b[0;32mimport\u001b[0m \u001b[0mx13_arima_analysis\u001b[0m\u001b[0;34m\u001b[0m\u001b[0;34m\u001b[0m\u001b[0m\n",
      "\u001b[0;32m~/anaconda3/lib/python3.7/site-packages/statsmodels/graphics/tsaplots.py\u001b[0m in \u001b[0;36m<module>\u001b[0;34m\u001b[0m\n\u001b[1;32m      4\u001b[0m \u001b[0;32mimport\u001b[0m \u001b[0mnumpy\u001b[0m \u001b[0;32mas\u001b[0m \u001b[0mnp\u001b[0m\u001b[0;34m\u001b[0m\u001b[0;34m\u001b[0m\u001b[0m\n\u001b[1;32m      5\u001b[0m \u001b[0;34m\u001b[0m\u001b[0m\n\u001b[0;32m----> 6\u001b[0;31m \u001b[0;32mfrom\u001b[0m \u001b[0mstatsmodels\u001b[0m\u001b[0;34m.\u001b[0m\u001b[0mcompat\u001b[0m\u001b[0;34m.\u001b[0m\u001b[0mpandas\u001b[0m \u001b[0;32mimport\u001b[0m \u001b[0msort_values\u001b[0m\u001b[0;34m\u001b[0m\u001b[0;34m\u001b[0m\u001b[0m\n\u001b[0m\u001b[1;32m      7\u001b[0m \u001b[0;32mfrom\u001b[0m \u001b[0mstatsmodels\u001b[0m\u001b[0;34m.\u001b[0m\u001b[0mgraphics\u001b[0m \u001b[0;32mimport\u001b[0m \u001b[0mutils\u001b[0m\u001b[0;34m\u001b[0m\u001b[0;34m\u001b[0m\u001b[0m\n\u001b[1;32m      8\u001b[0m \u001b[0;32mfrom\u001b[0m \u001b[0mstatsmodels\u001b[0m\u001b[0;34m.\u001b[0m\u001b[0mtsa\u001b[0m\u001b[0;34m.\u001b[0m\u001b[0mstattools\u001b[0m \u001b[0;32mimport\u001b[0m \u001b[0macf\u001b[0m\u001b[0;34m,\u001b[0m \u001b[0mpacf\u001b[0m\u001b[0;34m\u001b[0m\u001b[0;34m\u001b[0m\u001b[0m\n",
      "\u001b[0;31mImportError\u001b[0m: cannot import name 'sort_values' from 'statsmodels.compat.pandas' (/Users/mguan/anaconda3/lib/python3.7/site-packages/statsmodels/compat/pandas.py)"
     ]
    }
   ],
   "source": [
    "import numpy as np\n",
    "import pandas as pd\n",
    "import seaborn as sns\n",
    "import matplotlib as mpl\n",
    "import matplotlib.pyplot as plt\n",
    "\n",
    "import statsmodels.api as sm\n",
    "import statsmodels.formula.api as smf\n",
    "\n",
    "%matplotlib inline\n",
    "\n",
    "pd.set_option('display.max_columns', None)"
   ]
  },
  {
   "cell_type": "code",
   "execution_count": 9,
   "metadata": {},
   "outputs": [],
   "source": [
    "dt = pd.read_csv('data/clean/full_dt.csv')"
   ]
  },
  {
   "cell_type": "code",
   "execution_count": null,
   "metadata": {},
   "outputs": [],
   "source": [
    "dt.head()"
   ]
  },
  {
   "cell_type": "code",
   "execution_count": null,
   "metadata": {},
   "outputs": [],
   "source": [
    "dt[['sqrEnrollment', 'grd8Ela', 'grd8Math', 'attdRate',\n",
    "    'pctChronAbs', 'sqrYear', 'pct10PlusYear1', 'pct10PlusYear1Lowest3rd',\n",
    "    'pct10PlusYear2', 'pct10PlusYear2Lowest3rd', 'pct10PlusYear3',\n",
    "    'pct10PlusYear3Lowest3rd', 'numYear1', 'numYear1Lowest3rd',\n",
    "    'numYear2', 'numYear2Lowest3rd', 'numYear3',\n",
    "    'numYear3Lowest3rd', 'numGradLowest3rd', 'numPERLowest3rd',\n",
    "    'pctCCPCILowest3rd', 'pctCollegeReadyLowest3rd', 'pctGradLowest3rd',\n",
    "    'pctPERLowest3rd', 'pctGradLevel1', 'pctGradLevel2', 'pctGradLevel34',\n",
    "    'numGradLevel1', 'numGradLevel2', 'numGradLevel34', \n",
    "    'enrollment', 'gr9', 'gr10', 'gr11', 'gr12', 'female', 'pctFemale', 'male', 'pctMale',\n",
    "    'asian', 'pctAsian', 'black', 'pctBlack', 'hispanic', 'pctHispanic', 'white', 'pctWhite',\n",
    "    'swd', 'pctSwd', 'ell', 'pctEll', 'poverty', 'pctPoverty',\n",
    "    'econNeedInd', 'numTotalCohort', 'numGrads', 'pctGrad', 'pctCohortLowest3rd']] = dt[['sqrEnrollment', 'grd8Ela', 'grd8Math', 'attdRate',\n",
    "    'pctChronAbs', 'sqrYear', 'pct10PlusYear1', 'pct10PlusYear1Lowest3rd',\n",
    "    'pct10PlusYear2', 'pct10PlusYear2Lowest3rd', 'pct10PlusYear3',\n",
    "    'pct10PlusYear3Lowest3rd', 'numYear1', 'numYear1Lowest3rd',\n",
    "    'numYear2', 'numYear2Lowest3rd', 'numYear3',\n",
    "    'numYear3Lowest3rd', 'numGradLowest3rd', 'numPERLowest3rd',\n",
    "    'pctCCPCILowest3rd', 'pctCollegeReadyLowest3rd', 'pctGradLowest3rd',\n",
    "    'pctPERLowest3rd', 'pctGradLevel1', 'pctGradLevel2', 'pctGradLevel34',\n",
    "    'numGradLevel1', 'numGradLevel2', 'numGradLevel34', \n",
    "    'enrollment', 'gr9', 'gr10', 'gr11', 'gr12', 'female', 'pctFemale', 'male', 'pctMale',\n",
    "    'asian', 'pctAsian', 'black', 'pctBlack', 'hispanic', 'pctHispanic', 'white', 'pctWhite',\n",
    "    'swd', 'pctSwd', 'ell', 'pctEll', 'poverty', 'pctPoverty',\n",
    "    'econNeedInd', 'numTotalCohort', 'numGrads', 'pctGrad', 'pctCohortLowest3rd']].apply(pd.to_numeric, errors='coerce') "
   ]
  },
  {
   "cell_type": "code",
   "execution_count": null,
   "metadata": {},
   "outputs": [],
   "source": [
    "dt_imp = pd.concat([dt[['dbn', 'sqrYear', 'geoDis']],\n",
    "                    dt.groupby(['geoDis', 'sqrYear']).transform(lambda x: x.fillna(x.median()))], \n",
    "                  axis=1)\n",
    "dt_imp.head()"
   ]
  },
  {
   "cell_type": "code",
   "execution_count": null,
   "metadata": {},
   "outputs": [],
   "source": [
    "# dt.groupby(['dbn', 'sqrYear']).count().reset_index().sqrEnrollment.sort_values()"
   ]
  },
  {
   "cell_type": "code",
   "execution_count": null,
   "metadata": {},
   "outputs": [],
   "source": [
    "outcomes = ['pctGrad','pctGradLowest3rd','pctCCPCILowest3rd', 'pctCollegeReadyLowest3rd','pctPERLowest3rd']"
   ]
  },
  {
   "cell_type": "code",
   "execution_count": null,
   "metadata": {},
   "outputs": [],
   "source": [
    "dt.columns"
   ]
  },
  {
   "cell_type": "markdown",
   "metadata": {},
   "source": [
    "Considerations:\n",
    "impute values\n",
    "-replace with 0\n",
    "-replace with 14\n",
    "-impute with a model\n",
    "-"
   ]
  },
  {
   "cell_type": "code",
   "execution_count": null,
   "metadata": {},
   "outputs": [],
   "source": [
    "outcomes_df = pd.DataFrame()\n",
    "rsq = {}\n",
    "\n",
    "for o in outcomes:\n",
    "    print('Modelling Outcome : '+ o)\n",
    "    temp = dt[['dbn', 'grd8Ela', 'grd8Math', 'attdRate', 'pctChronAbs', 'pctSwd', 'pctEll', \n",
    "               'pct10PlusYear1', 'pct10PlusYear2', 'pct10PlusYear3','econNeedInd','sqrYear', o]].dropna()\n",
    "    # print(temp.corr())\n",
    "    form = o + ' ~ grd8Ela + grd8Math + attdRate + pctChronAbs + pctSwd + pctEll + pct10PlusYear1 + pct10PlusYear2 + pct10PlusYear3 + econNeedInd + C(sqrYear) + 1'\n",
    "    mod = smf.ols(formula=form, data=temp)\n",
    "    res = mod.fit()\n",
    "    outcomes_df[o] = res.params\n",
    "    rsq[o]=res.rsquared\n",
    "    print(res.summary())"
   ]
  },
  {
   "cell_type": "code",
   "execution_count": null,
   "metadata": {},
   "outputs": [],
   "source": [
    "outcomes_df"
   ]
  },
  {
   "cell_type": "code",
   "execution_count": null,
   "metadata": {},
   "outputs": [],
   "source": [
    "rsq"
   ]
  },
  {
   "cell_type": "code",
   "execution_count": null,
   "metadata": {},
   "outputs": [],
   "source": [
    "outcomes_df = pd.DataFrame()\n",
    "rsq = {}\n",
    "\n",
    "for o in outcomes:\n",
    "    print('Modelling Outcome : '+ o)\n",
    "    temp = dt_imp[['dbn', 'grd8Ela', 'grd8Math', 'attdRate', 'pctChronAbs', 'pctSwd', 'pctEll', \n",
    "               'pct10PlusYear1', 'pct10PlusYear2', 'pct10PlusYear3','econNeedInd','sqrYear', o]].dropna()\n",
    "    # print(temp.corr())\n",
    "    form = o + ' ~ grd8Ela + grd8Math + attdRate + pctChronAbs + pctSwd + pctEll + pct10PlusYear1 + pct10PlusYear2 + pct10PlusYear3 + econNeedInd + C(sqrYear) + 1'\n",
    "    mod = smf.ols(formula=form, data=temp)\n",
    "    res = mod.fit()\n",
    "    outcomes_df[o] = res.params\n",
    "    rsq[o]=res.rsquared\n",
    "    print(res.summary())"
   ]
  },
  {
   "cell_type": "code",
   "execution_count": null,
   "metadata": {},
   "outputs": [],
   "source": [
    "outcomes_df = pd.DataFrame()\n",
    "rsq = {}\n",
    "\n",
    "for o in outcomes:\n",
    "    print('Modelling Outcome : '+ o)\n",
    "    temp = dt[['dbn', 'grd8Ela', 'grd8Math', 'attdRate', 'pctChronAbs', 'pctSwd', 'pctEll', 'pctCohortLowest3rd','pctBlack','pctMale',\n",
    "               'pct10PlusYear1', 'pct10PlusYear2', 'pct10PlusYear3','econNeedInd','sqrYear', o]].dropna()\n",
    "    form = o + ' ~ grd8Ela + grd8Math + attdRate + pctChronAbs + pctSwd + pctEll + pct10PlusYear1 + pct10PlusYear2 + pct10PlusYear3 + econNeedInd + pctCohortLowest3rd + pctBlack + pctMale + C(sqrYear) + 1'\n",
    "    mod = smf.ols(formula=form, data=temp)\n",
    "    res = mod.fit()\n",
    "    outcomes_df[o] = res.params\n",
    "    rsq[o]=res.rsquared\n",
    "    print(res.summary())"
   ]
  },
  {
   "cell_type": "code",
   "execution_count": null,
   "metadata": {},
   "outputs": [],
   "source": [
    "outcomes_df = pd.DataFrame()\n",
    "rsq = {}\n",
    "\n",
    "for o in outcomes:\n",
    "    print('Modelling Outcome : '+ o)\n",
    "    temp = dt_imp[['dbn', 'grd8Ela', 'grd8Math', 'attdRate', 'pctChronAbs', 'pctSwd', 'pctEll', 'pctCohortLowest3rd','pctBlack','pctMale',\n",
    "               'pct10PlusYear1', 'pct10PlusYear2', 'pct10PlusYear3','econNeedInd','sqrYear', o]].dropna()\n",
    "    form = o + ' ~ grd8Ela + grd8Math + attdRate + pctChronAbs + pctSwd + pctEll + pct10PlusYear1 + pct10PlusYear2 + pct10PlusYear3 + econNeedInd + pctCohortLowest3rd + pctBlack + pctMale + C(sqrYear) + 1'\n",
    "    mod = smf.ols(formula=form, data=temp)\n",
    "    res = mod.fit()\n",
    "    outcomes_df[o] = res.params\n",
    "    rsq[o]=res.rsquared\n",
    "    print(res.summary())"
   ]
  },
  {
   "cell_type": "code",
   "execution_count": null,
   "metadata": {},
   "outputs": [],
   "source": [
    "rsq"
   ]
  },
  {
   "cell_type": "code",
   "execution_count": null,
   "metadata": {},
   "outputs": [],
   "source": [
    "outcomes_df"
   ]
  },
  {
   "cell_type": "code",
   "execution_count": null,
   "metadata": {},
   "outputs": [],
   "source": [
    "pred_grad = dt[['dbn', 'sqrYear', 'geoDis', 'grd8Ela', 'grd8Math', 'attdRate', 'pctSwd', 'pctEll', 'pct10PlusYear1', 'pct10PlusYear2', 'pct10PlusYear3',\n",
    "                'econNeedInd', 'pctGrad', 'numTotalCohort', 'numGrads']]\n",
    "form = 'pctGrad ~ grd8Ela + grd8Math + attdRate + pctSwd + pctEll + pct10PlusYear1 + pct10PlusYear2 + pct10PlusYear3 + econNeedInd + 1'\n",
    "mod = smf.ols(formula=form, data=pred_grad[pred_grad.sqrYear != 2020].dropna())\n",
    "res = mod.fit()\n",
    "print(res.summary())\n",
    "pred_grad['predGradRate'] = res.predict(pred_grad)\n",
    "dt['predGradRate'] = res.predict(dt)"
   ]
  },
  {
   "cell_type": "code",
   "execution_count": null,
   "metadata": {},
   "outputs": [],
   "source": [
    "pred_grad.groupby(['sqrYear']).describe()"
   ]
  },
  {
   "cell_type": "code",
   "execution_count": null,
   "metadata": {},
   "outputs": [],
   "source": [
    "pred_grad.groupby(['geoDis']).describe()"
   ]
  },
  {
   "cell_type": "code",
   "execution_count": null,
   "metadata": {},
   "outputs": [],
   "source": [
    "pred_grad_imp = pd.concat([pred_grad[['dbn', 'sqrYear', 'geoDis']],\n",
    "                           pred_grad.groupby(['geoDis', 'sqrYear']).transform(lambda x: x.fillna(x.median()))],\n",
    "                          axis=1)\n",
    "\n",
    "mod = smf.ols(formula=form, data=pred_grad_imp)\n",
    "res = mod.fit()\n",
    "print(res.summary())\n",
    "pred_grad_imp['predGradRateImp'] = res.predict(pred_grad_imp)"
   ]
  },
  {
   "cell_type": "code",
   "execution_count": null,
   "metadata": {},
   "outputs": [],
   "source": [
    "pred_grad['diff'] = pred_grad['pctGrad'] - pred_grad['predGradRate']\n",
    "dt['diff'] = dt['pctGrad'] - dt['predGradRate']"
   ]
  },
  {
   "cell_type": "code",
   "execution_count": null,
   "metadata": {},
   "outputs": [],
   "source": [
    "pred_grad.head()"
   ]
  },
  {
   "cell_type": "code",
   "execution_count": null,
   "metadata": {},
   "outputs": [],
   "source": [
    "hsLocations = pd.read_json('https://data.cityofnewyork.us/resource/23z9-6uk9.json')\n",
    "hsLocations = hsLocations[['dbn', 'geocoded_column', 'latitude', 'longitude']]\n",
    "hsLocations.head()"
   ]
  },
  {
   "cell_type": "code",
   "execution_count": null,
   "metadata": {},
   "outputs": [],
   "source": [
    "dt = dt.merge(hsLocations, how='left', right_on=['dbn'], left_on=['dbn'])"
   ]
  },
  {
   "cell_type": "code",
   "execution_count": null,
   "metadata": {},
   "outputs": [],
   "source": []
  },
  {
   "cell_type": "code",
   "execution_count": 1,
   "metadata": {},
   "outputs": [
    {
     "ename": "NameError",
     "evalue": "name 'dt' is not defined",
     "output_type": "error",
     "traceback": [
      "\u001b[0;31m---------------------------------------------------------------------------\u001b[0m",
      "\u001b[0;31mNameError\u001b[0m                                 Traceback (most recent call last)",
      "\u001b[0;32m<ipython-input-1-916be167e6aa>\u001b[0m in \u001b[0;36m<module>\u001b[0;34m\u001b[0m\n\u001b[0;32m----> 1\u001b[0;31m \u001b[0mdt\u001b[0m\u001b[0;34m.\u001b[0m\u001b[0mset_index\u001b[0m\u001b[0;34m(\u001b[0m\u001b[0;34m[\u001b[0m\u001b[0;34m'dbn'\u001b[0m\u001b[0;34m,\u001b[0m \u001b[0;34m'sqrYear'\u001b[0m\u001b[0;34m]\u001b[0m\u001b[0;34m,\u001b[0m \u001b[0minplace\u001b[0m\u001b[0;34m=\u001b[0m\u001b[0;32mTrue\u001b[0m\u001b[0;34m)\u001b[0m\u001b[0;34m\u001b[0m\u001b[0;34m\u001b[0m\u001b[0m\n\u001b[0m\u001b[1;32m      2\u001b[0m \u001b[0mdt\u001b[0m\u001b[0;34m.\u001b[0m\u001b[0msort_index\u001b[0m\u001b[0;34m(\u001b[0m\u001b[0minplace\u001b[0m\u001b[0;34m=\u001b[0m\u001b[0;32mTrue\u001b[0m\u001b[0;34m)\u001b[0m\u001b[0;34m\u001b[0m\u001b[0;34m\u001b[0m\u001b[0m\n\u001b[1;32m      3\u001b[0m \u001b[0mdt\u001b[0m\u001b[0;34m[\u001b[0m\u001b[0;34m'diffYoy'\u001b[0m\u001b[0;34m]\u001b[0m \u001b[0;34m=\u001b[0m \u001b[0mnp\u001b[0m\u001b[0;34m.\u001b[0m\u001b[0mnan\u001b[0m\u001b[0;34m\u001b[0m\u001b[0;34m\u001b[0m\u001b[0m\n\u001b[1;32m      4\u001b[0m \u001b[0;34m\u001b[0m\u001b[0m\n\u001b[1;32m      5\u001b[0m \u001b[0;32mfor\u001b[0m \u001b[0midx\u001b[0m \u001b[0;32min\u001b[0m \u001b[0mdt\u001b[0m\u001b[0;34m.\u001b[0m\u001b[0mindex\u001b[0m\u001b[0;34m.\u001b[0m\u001b[0mlevels\u001b[0m\u001b[0;34m[\u001b[0m\u001b[0;36m0\u001b[0m\u001b[0;34m]\u001b[0m\u001b[0;34m:\u001b[0m\u001b[0;34m\u001b[0m\u001b[0;34m\u001b[0m\u001b[0m\n",
      "\u001b[0;31mNameError\u001b[0m: name 'dt' is not defined"
     ]
    }
   ],
   "source": [
    "dt.set_index(['dbn', 'sqrYear'], inplace=True)\n",
    "dt.sort_index(inplace=True)\n",
    "dt['diffYoy'] = np.nan\n",
    "\n",
    "for idx in dt.index.levels[0]:\n",
    "    dt.diffs[idx] = dt.value[idx].diff()"
   ]
  },
  {
   "cell_type": "code",
   "execution_count": 32,
   "metadata": {},
   "outputs": [],
   "source": [
    "dt.to_csv('data/clean/res.csv', index=False)"
   ]
  },
  {
   "cell_type": "code",
   "execution_count": null,
   "metadata": {},
   "outputs": [],
   "source": []
  },
  {
   "cell_type": "code",
   "execution_count": null,
   "metadata": {},
   "outputs": [],
   "source": []
  },
  {
   "cell_type": "code",
   "execution_count": null,
   "metadata": {},
   "outputs": [],
   "source": []
  }
 ],
 "metadata": {
  "kernelspec": {
   "display_name": "Python 3",
   "language": "python",
   "name": "python3"
  },
  "language_info": {
   "codemirror_mode": {
    "name": "ipython",
    "version": 3
   },
   "file_extension": ".py",
   "mimetype": "text/x-python",
   "name": "python",
   "nbconvert_exporter": "python",
   "pygments_lexer": "ipython3",
   "version": "3.7.3"
  }
 },
 "nbformat": 4,
 "nbformat_minor": 2
}
